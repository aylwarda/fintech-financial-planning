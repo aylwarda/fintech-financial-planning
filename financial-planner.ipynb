{
 "cells": [
  {
   "cell_type": "markdown",
   "metadata": {},
   "source": [
    "# Unit 5 - Financial Planning"
   ]
  },
  {
   "cell_type": "code",
   "execution_count": 352,
   "metadata": {},
   "outputs": [],
   "source": [
    "# Initial imports\n",
    "import os\n",
    "import requests\n",
    "import pandas as pd\n",
    "from dotenv import load_dotenv\n",
    "from dotenv import find_dotenv\n",
    "import alpaca_trade_api as tradeapi\n",
    "from MCForecastTools import MCSimulation\n",
    "\n",
    "%matplotlib inline"
   ]
  },
  {
   "cell_type": "code",
   "execution_count": 355,
   "metadata": {},
   "outputs": [
    {
     "data": {
      "text/plain": [
       "True"
      ]
     },
     "execution_count": 355,
     "metadata": {},
     "output_type": "execute_result"
    }
   ],
   "source": [
    "# Load .env enviroment variables\n",
    "#load_dotenv()\n",
    "# Loading it in my own way :)\n",
    "load_dotenv(dotenv_path=find_dotenv())"
   ]
  },
  {
   "cell_type": "markdown",
   "metadata": {},
   "source": [
    "## Part 1 - Personal Finance Planner"
   ]
  },
  {
   "cell_type": "markdown",
   "metadata": {},
   "source": [
    "### Collect Crypto Prices Using the `requests` Library"
   ]
  },
  {
   "cell_type": "code",
   "execution_count": 3,
   "metadata": {},
   "outputs": [],
   "source": [
    "# Set current amount of crypto assets\n",
    "my_btc = 1.2\n",
    "my_eth = 5.3"
   ]
  },
  {
   "cell_type": "code",
   "execution_count": 4,
   "metadata": {},
   "outputs": [],
   "source": [
    "# Crypto API URLs\n",
    "# As I am in Australia, I'd prefer to see USD (and not CAD, or EUR, Or GBP, etc.)\n",
    "# But will request and extract both as USD is default along with the requested curr.\n",
    "btc_url = \"https://api.alternative.me/v2/ticker/Bitcoin/?convert=CAD\"\n",
    "eth_url = \"https://api.alternative.me/v2/ticker/Ethereum/?convert=CAD\""
   ]
  },
  {
   "cell_type": "code",
   "execution_count": 5,
   "metadata": {},
   "outputs": [
    {
     "name": "stdout",
     "output_type": "stream",
     "text": [
      "\n",
      "The current value of your 1.2 BTC is $51401.06 (US$42288.00)\n",
      "The current value of your 5.3 ETH is $14879.18 (US$12241.20)\n"
     ]
    }
   ],
   "source": [
    "# Fetch current BTC price\n",
    "btc_data = requests.get(btc_url).json()\n",
    "\n",
    "# Fetch current ETH price\n",
    "eth_data = requests.get(eth_url).json()\n",
    "\n",
    "# Compute current value of my crypto\n",
    "# Extract the price of BTC in CAD **AND** USD\n",
    "cad_price_btc = btc_data[\"data\"][\"1\"][\"quotes\"][\"CAD\"][\"price\"]\n",
    "usd_price_btc = btc_data[\"data\"][\"1\"][\"quotes\"][\"USD\"][\"price\"]\n",
    "\n",
    "# Now do the same for ETH.\n",
    "cad_price_eth = eth_data[\"data\"][\"1027\"][\"quotes\"][\"CAD\"][\"price\"]\n",
    "usd_price_eth = eth_data[\"data\"][\"1027\"][\"quotes\"][\"USD\"][\"price\"]\n",
    "\n",
    "# Compute the current monetary value of each \"asset\"\n",
    "my_btc_value = my_btc*cad_price_btc\n",
    "my_btc_val_usd = my_btc*usd_price_btc\n",
    "#\n",
    "my_eth_value = my_eth*cad_price_eth\n",
    "my_eth_val_usd = my_eth*usd_price_eth\n",
    "\n",
    "# Print current crypto wallet balance\n",
    "# Add some space with a newline char for better viewing pleasure :)\n",
    "print(f\"\\nThe current value of your {my_btc} BTC is ${my_btc_value:0.2f} (US${my_btc_val_usd:0.2f})\")\n",
    "print(f\"The current value of your {my_eth} ETH is ${my_eth_value:0.2f} (US${my_eth_val_usd:0.2f})\")"
   ]
  },
  {
   "cell_type": "markdown",
   "metadata": {},
   "source": [
    "### Collect Investments Data Using Alpaca: `SPY` (stocks) and `AGG` (bonds)"
   ]
  },
  {
   "cell_type": "code",
   "execution_count": 6,
   "metadata": {},
   "outputs": [],
   "source": [
    "# Set current amount of shares\n",
    "my_agg = 200\n",
    "my_spy = 50"
   ]
  },
  {
   "cell_type": "code",
   "execution_count": 7,
   "metadata": {},
   "outputs": [],
   "source": [
    "# Set Alpaca API key and secret\n",
    "# Fetch my key\n",
    "alpaca_api_key = os.getenv('ALPACA_API_KEY')\n",
    "alpaca_api_secret = os.getenv('ALPACA_SECRET_KEY')\n",
    "\n",
    "# Create the Alpaca API object\n",
    "# NOTE: According to API documentation,\n",
    "#       v2 of the API is default\n",
    "alpaca = tradeapi.REST(alpaca_api_key, alpaca_api_secret)"
   ]
  },
  {
   "cell_type": "code",
   "execution_count": 209,
   "metadata": {},
   "outputs": [
    {
     "data": {
      "text/html": [
       "<div>\n",
       "<style scoped>\n",
       "    .dataframe tbody tr th:only-of-type {\n",
       "        vertical-align: middle;\n",
       "    }\n",
       "\n",
       "    .dataframe tbody tr th {\n",
       "        vertical-align: top;\n",
       "    }\n",
       "\n",
       "    .dataframe thead tr th {\n",
       "        text-align: left;\n",
       "    }\n",
       "\n",
       "    .dataframe thead tr:last-of-type th {\n",
       "        text-align: right;\n",
       "    }\n",
       "</style>\n",
       "<table border=\"1\" class=\"dataframe\">\n",
       "  <thead>\n",
       "    <tr>\n",
       "      <th></th>\n",
       "      <th colspan=\"5\" halign=\"left\">AGG</th>\n",
       "      <th colspan=\"5\" halign=\"left\">SPY</th>\n",
       "    </tr>\n",
       "    <tr>\n",
       "      <th></th>\n",
       "      <th>open</th>\n",
       "      <th>high</th>\n",
       "      <th>low</th>\n",
       "      <th>close</th>\n",
       "      <th>volume</th>\n",
       "      <th>open</th>\n",
       "      <th>high</th>\n",
       "      <th>low</th>\n",
       "      <th>close</th>\n",
       "      <th>volume</th>\n",
       "    </tr>\n",
       "    <tr>\n",
       "      <th>time</th>\n",
       "      <th></th>\n",
       "      <th></th>\n",
       "      <th></th>\n",
       "      <th></th>\n",
       "      <th></th>\n",
       "      <th></th>\n",
       "      <th></th>\n",
       "      <th></th>\n",
       "      <th></th>\n",
       "      <th></th>\n",
       "    </tr>\n",
       "  </thead>\n",
       "  <tbody>\n",
       "    <tr>\n",
       "      <th>2021-03-17 00:00:00-04:00</th>\n",
       "      <td>113.55</td>\n",
       "      <td>113.9778</td>\n",
       "      <td>113.480</td>\n",
       "      <td>113.87</td>\n",
       "      <td>5023810</td>\n",
       "      <td>394.53</td>\n",
       "      <td>398.12</td>\n",
       "      <td>393.30</td>\n",
       "      <td>397.22</td>\n",
       "      <td>61876016</td>\n",
       "    </tr>\n",
       "    <tr>\n",
       "      <th>2020-03-04 00:00:00-05:00</th>\n",
       "      <td>116.83</td>\n",
       "      <td>117.1200</td>\n",
       "      <td>116.530</td>\n",
       "      <td>116.64</td>\n",
       "      <td>5459619</td>\n",
       "      <td>306.07</td>\n",
       "      <td>313.10</td>\n",
       "      <td>303.33</td>\n",
       "      <td>312.91</td>\n",
       "      <td>139586206</td>\n",
       "    </tr>\n",
       "    <tr>\n",
       "      <th>2021-06-11 00:00:00-04:00</th>\n",
       "      <td>115.31</td>\n",
       "      <td>115.3200</td>\n",
       "      <td>115.160</td>\n",
       "      <td>115.24</td>\n",
       "      <td>3476373</td>\n",
       "      <td>424.19</td>\n",
       "      <td>424.42</td>\n",
       "      <td>422.82</td>\n",
       "      <td>424.31</td>\n",
       "      <td>37018077</td>\n",
       "    </tr>\n",
       "    <tr>\n",
       "      <th>2018-11-09 00:00:00-05:00</th>\n",
       "      <td>104.07</td>\n",
       "      <td>104.2500</td>\n",
       "      <td>104.070</td>\n",
       "      <td>104.15</td>\n",
       "      <td>2561478</td>\n",
       "      <td>279.03</td>\n",
       "      <td>279.24</td>\n",
       "      <td>276.18</td>\n",
       "      <td>277.83</td>\n",
       "      <td>70577729</td>\n",
       "    </tr>\n",
       "    <tr>\n",
       "      <th>2021-02-17 00:00:00-05:00</th>\n",
       "      <td>116.22</td>\n",
       "      <td>116.2900</td>\n",
       "      <td>116.145</td>\n",
       "      <td>116.28</td>\n",
       "      <td>6038386</td>\n",
       "      <td>390.42</td>\n",
       "      <td>392.66</td>\n",
       "      <td>389.33</td>\n",
       "      <td>392.43</td>\n",
       "      <td>44671866</td>\n",
       "    </tr>\n",
       "  </tbody>\n",
       "</table>\n",
       "</div>"
      ],
      "text/plain": [
       "                              AGG                                         SPY  \\\n",
       "                             open      high      low   close   volume    open   \n",
       "time                                                                            \n",
       "2021-03-17 00:00:00-04:00  113.55  113.9778  113.480  113.87  5023810  394.53   \n",
       "2020-03-04 00:00:00-05:00  116.83  117.1200  116.530  116.64  5459619  306.07   \n",
       "2021-06-11 00:00:00-04:00  115.31  115.3200  115.160  115.24  3476373  424.19   \n",
       "2018-11-09 00:00:00-05:00  104.07  104.2500  104.070  104.15  2561478  279.03   \n",
       "2021-02-17 00:00:00-05:00  116.22  116.2900  116.145  116.28  6038386  390.42   \n",
       "\n",
       "                                                              \n",
       "                             high     low   close     volume  \n",
       "time                                                          \n",
       "2021-03-17 00:00:00-04:00  398.12  393.30  397.22   61876016  \n",
       "2020-03-04 00:00:00-05:00  313.10  303.33  312.91  139586206  \n",
       "2021-06-11 00:00:00-04:00  424.42  422.82  424.31   37018077  \n",
       "2018-11-09 00:00:00-05:00  279.24  276.18  277.83   70577729  \n",
       "2021-02-17 00:00:00-05:00  392.66  389.33  392.43   44671866  "
      ]
     },
     "execution_count": 209,
     "metadata": {},
     "output_type": "execute_result"
    }
   ],
   "source": [
    "# Format current date as ISO format\n",
    "# Set TZ\n",
    "NYC = 'America/New_York'\n",
    "\n",
    "# Set start & end\n",
    "# NOTE: See further notes below, where I call the API.\n",
    "#       These are in effect, ignored.\n",
    "start_date = pd.Timestamp('2015-06-01', tz=NYC).isoformat()\n",
    "end_date = pd.Timestamp('2021-06-10', tz=NYC).isoformat()\n",
    "\n",
    "# Set the tickers\n",
    "tickers = [\"AGG\", \"SPY\"]\n",
    "\n",
    "# Set timeframe to '1D' for Alpaca API\n",
    "# NOTE: As 'day' is a synonym of '1D', I use it instead.\n",
    "#timeframe = \"1D\"\n",
    "timeframe = \"day\"\n",
    "\n",
    "# Get current closing prices for SPY and AGG\n",
    "# (use a limit=1000 parameter to call the most recent 1000 days of data)\n",
    "# Based on the API documentation ...\n",
    "#    i. If 'end' date is omitted, \"now\" is returned, so I've decided to not\n",
    "#       set the end date\n",
    "#   ii. As the limit acts on the \"most recent\" data returned, setting it\n",
    "#       to 1000 means the last 1000 days is returned (given the use of\n",
    "#       the 'daily' timeframe).\n",
    "#  iii. Therefore, I will also not set the 'start' date, so in effect\n",
    "#       the last 1000 day bars are returned.\n",
    "# Fetch the req. data into a DataFrame\n",
    "investments_data = alpaca.get_barset(tickers, timeframe, limit=1000).df\n",
    "\n",
    "# Preview DataFrame\n",
    "# I prefer seeing a sample than head() or tail()\n",
    "investments_data.sample(5)"
   ]
  },
  {
   "cell_type": "code",
   "execution_count": 338,
   "metadata": {},
   "outputs": [
    {
     "name": "stdout",
     "output_type": "stream",
     "text": [
      "Current AGG closing price: $115.24\n",
      "Current SPY closing price: $424.31\n"
     ]
    }
   ],
   "source": [
    "# Pick AGG and SPY close prices\n",
    "# Find the last\n",
    "agg_close_price = investments_data.iloc[-1][\"AGG\"][\"close\"]\n",
    "spy_close_price = investments_data.iloc[-1][\"SPY\"][\"close\"]\n",
    "\n",
    "# Print AGG and SPY close prices\n",
    "print(f\"Current AGG closing price: ${agg_close_price}\")\n",
    "print(f\"Current SPY closing price: ${spy_close_price}\")"
   ]
  },
  {
   "cell_type": "code",
   "execution_count": 336,
   "metadata": {},
   "outputs": [
    {
     "name": "stdout",
     "output_type": "stream",
     "text": [
      "\n",
      "The current value of your 200 AGG shares is US$23048.00\n",
      "The current value of your 50 SPY shares is US$21215.50\n"
     ]
    }
   ],
   "source": [
    "# Compute the current value of shares\n",
    "my_agg_value = my_agg*agg_close_price\n",
    "my_spy_value = my_spy*spy_close_price\n",
    "\n",
    "# Print current value of shares\n",
    "print(f\"\\nThe current value of your {my_agg} AGG shares is US${my_agg_value:0.2f}\")\n",
    "print(f\"The current value of your {my_spy} SPY shares is US${my_spy_value:0.2f}\")"
   ]
  },
  {
   "cell_type": "markdown",
   "metadata": {},
   "source": [
    "### Savings Health Analysis"
   ]
  },
  {
   "cell_type": "code",
   "execution_count": 40,
   "metadata": {},
   "outputs": [
    {
     "data": {
      "text/html": [
       "<div>\n",
       "<style scoped>\n",
       "    .dataframe tbody tr th:only-of-type {\n",
       "        vertical-align: middle;\n",
       "    }\n",
       "\n",
       "    .dataframe tbody tr th {\n",
       "        vertical-align: top;\n",
       "    }\n",
       "\n",
       "    .dataframe thead th {\n",
       "        text-align: right;\n",
       "    }\n",
       "</style>\n",
       "<table border=\"1\" class=\"dataframe\">\n",
       "  <thead>\n",
       "    <tr style=\"text-align: right;\">\n",
       "      <th></th>\n",
       "      <th>amount</th>\n",
       "    </tr>\n",
       "  </thead>\n",
       "  <tbody>\n",
       "    <tr>\n",
       "      <th>crypto</th>\n",
       "      <td>54529.198</td>\n",
       "    </tr>\n",
       "    <tr>\n",
       "      <th>shares</th>\n",
       "      <td>44263.500</td>\n",
       "    </tr>\n",
       "  </tbody>\n",
       "</table>\n",
       "</div>"
      ],
      "text/plain": [
       "           amount\n",
       "crypto  54529.198\n",
       "shares  44263.500"
      ]
     },
     "metadata": {},
     "output_type": "display_data"
    }
   ],
   "source": [
    "# Set monthly household income\n",
    "monthly_income = 12000.00\n",
    "\n",
    "# Consolidate financial assets data\n",
    "# As shares are in USD, including crypto values in USD\n",
    "my_crypto_total = my_btc_val_usd + my_eth_val_usd\n",
    "my_shares_total = my_agg_value + my_spy_value\n",
    "\n",
    "# Create savings DataFrame\n",
    "df_savings = pd.DataFrame({\"amount\": [my_crypto_total, my_shares_total]}, index=['crypto','shares'])\n",
    "\n",
    "# Display savings DataFrame\n",
    "display(df_savings)"
   ]
  },
  {
   "cell_type": "code",
   "execution_count": 335,
   "metadata": {},
   "outputs": [
    {
     "data": {
      "text/plain": [
       "array([<AxesSubplot:ylabel='amount'>], dtype=object)"
      ]
     },
     "execution_count": 335,
     "metadata": {},
     "output_type": "execute_result"
    },
    {
     "data": {
      "image/png": "[encoded data removed]",
      "text/plain": [
       "<Figure size 720x504 with 1 Axes>"
      ]
     },
     "metadata": {},
     "output_type": "display_data"
    }
   ],
   "source": [
    "# Plot savings pie chart\n",
    "# Experimenting a little ... if you place the commas\n",
    "# at the start of the line you can comment out the\n",
    "# line without having to rearrange things much.\n",
    "df_savings.plot.pie(\n",
    "    subplots=True\n",
    "    ,shadow=True\n",
    "    ,startangle=0\n",
    "    ,autopct='%1.f%%'\n",
    "    ,figsize=(10,7)\n",
    "    ,title=\"Asset Composition of Savings (based on last close)\\n\"\n",
    ")"
   ]
  },
  {
   "cell_type": "code",
   "execution_count": 339,
   "metadata": {},
   "outputs": [
    {
     "name": "stdout",
     "output_type": "stream",
     "text": [
      "\n",
      "Congratulations! Your savings of $98792.70 are more than enough for an emergency fund!!!\n"
     ]
    }
   ],
   "source": [
    "# Set ideal emergency fund\n",
    "emergency_fund = monthly_income * 3\n",
    "\n",
    "# Calculate total amount of savings\n",
    "total_savings = list(df_savings.sum())\n",
    "\n",
    "# Validate saving health\n",
    "# Print the appropriate message\n",
    "if total_savings[0] > emergency_fund:\n",
    "    print(f\"\\nCongratulations! Your savings of ${total_savings[0]:0.02f} \"\n",
    "          f\"are more than enough for an emergency fund!!!\")\n",
    "elif total_savings[0] == emergency_fund:\n",
    "    print(f\"\\nCongratulations! You've reached your savings goal of \"\n",
    "          f\"${total_savings[0]:0.02f} ... you must be proud!\")\n",
    "else:\n",
    "    print(f\"\\nYou're nearly there, keep going!!!\"\n",
    "          f\"  You have ${(emergency_fund-total_savings[0]):0.02f} to go, \"\n",
    "          f\"given your current savings of ${total_savings[0]:0.02f}\")"
   ]
  },
  {
   "cell_type": "markdown",
   "metadata": {},
   "source": [
    "## Part 2 - Retirement Planning\n",
    "\n",
    "### Monte Carlo Simulation"
   ]
  },
  {
   "cell_type": "code",
   "execution_count": 211,
   "metadata": {},
   "outputs": [],
   "source": [
    "# Set start and end dates of five years back from today.\n",
    "# Sample results may vary from the solution based on the time frame chosen\n",
    "start_date = pd.Timestamp('2016-05-01', tz='America/New_York').isoformat()\n",
    "end_date = pd.Timestamp('2021-05-01', tz='America/New_York').isoformat()"
   ]
  },
  {
   "cell_type": "code",
   "execution_count": 225,
   "metadata": {},
   "outputs": [
    {
     "data": {
      "text/html": [
       "<div>\n",
       "<style scoped>\n",
       "    .dataframe tbody tr th:only-of-type {\n",
       "        vertical-align: middle;\n",
       "    }\n",
       "\n",
       "    .dataframe tbody tr th {\n",
       "        vertical-align: top;\n",
       "    }\n",
       "\n",
       "    .dataframe thead tr th {\n",
       "        text-align: left;\n",
       "    }\n",
       "\n",
       "    .dataframe thead tr:last-of-type th {\n",
       "        text-align: right;\n",
       "    }\n",
       "</style>\n",
       "<table border=\"1\" class=\"dataframe\">\n",
       "  <thead>\n",
       "    <tr>\n",
       "      <th></th>\n",
       "      <th colspan=\"5\" halign=\"left\">AGG</th>\n",
       "      <th colspan=\"5\" halign=\"left\">SPY</th>\n",
       "    </tr>\n",
       "    <tr>\n",
       "      <th></th>\n",
       "      <th>open</th>\n",
       "      <th>high</th>\n",
       "      <th>low</th>\n",
       "      <th>close</th>\n",
       "      <th>volume</th>\n",
       "      <th>open</th>\n",
       "      <th>high</th>\n",
       "      <th>low</th>\n",
       "      <th>close</th>\n",
       "      <th>volume</th>\n",
       "    </tr>\n",
       "    <tr>\n",
       "      <th>time</th>\n",
       "      <th></th>\n",
       "      <th></th>\n",
       "      <th></th>\n",
       "      <th></th>\n",
       "      <th></th>\n",
       "      <th></th>\n",
       "      <th></th>\n",
       "      <th></th>\n",
       "      <th></th>\n",
       "      <th></th>\n",
       "    </tr>\n",
       "  </thead>\n",
       "  <tbody>\n",
       "    <tr>\n",
       "      <th>2017-06-22 00:00:00-04:00</th>\n",
       "      <td>110.06</td>\n",
       "      <td>110.0947</td>\n",
       "      <td>109.95</td>\n",
       "      <td>110.05</td>\n",
       "      <td>1295361</td>\n",
       "      <td>242.97</td>\n",
       "      <td>243.53</td>\n",
       "      <td>242.64</td>\n",
       "      <td>242.83</td>\n",
       "      <td>32991335</td>\n",
       "    </tr>\n",
       "  </tbody>\n",
       "</table>\n",
       "</div>"
      ],
      "text/plain": [
       "                              AGG                                        SPY  \\\n",
       "                             open      high     low   close   volume    open   \n",
       "time                                                                           \n",
       "2017-06-22 00:00:00-04:00  110.06  110.0947  109.95  110.05  1295361  242.97   \n",
       "\n",
       "                                                             \n",
       "                             high     low   close    volume  \n",
       "time                                                         \n",
       "2017-06-22 00:00:00-04:00  243.53  242.64  242.83  32991335  "
      ]
     },
     "execution_count": 225,
     "metadata": {},
     "output_type": "execute_result"
    }
   ],
   "source": [
    "# Get 5 years' worth of historical data for SPY and AGG\n",
    "# (use a limit=1000 parameter to call the most recent 1000 days of data)\n",
    "# I will get the last 2000 days' worth ... ~5 years is not enough for\n",
    "# a decent Monte Carlo simulation, esp. id extrapolation is over 30 years.\n",
    "# The data As in code above, to get last 1000 days (timeframe is 'day') start or end not req'd\n",
    "#\n",
    "# The investments_data DataFrame in part 1 has already been fetched for the data I need.\n",
    "# To fetch the previous 1000 days, only an end date is required with limit=1000.\n",
    "#\n",
    "# Determine earliest date by checking the DataFrame\n",
    "investments_data.head(1)"
   ]
  },
  {
   "cell_type": "code",
   "execution_count": 342,
   "metadata": {},
   "outputs": [
    {
     "data": {
      "text/html": [
       "<div>\n",
       "<style scoped>\n",
       "    .dataframe tbody tr th:only-of-type {\n",
       "        vertical-align: middle;\n",
       "    }\n",
       "\n",
       "    .dataframe tbody tr th {\n",
       "        vertical-align: top;\n",
       "    }\n",
       "\n",
       "    .dataframe thead tr th {\n",
       "        text-align: left;\n",
       "    }\n",
       "\n",
       "    .dataframe thead tr:last-of-type th {\n",
       "        text-align: right;\n",
       "    }\n",
       "</style>\n",
       "<table border=\"1\" class=\"dataframe\">\n",
       "  <thead>\n",
       "    <tr>\n",
       "      <th></th>\n",
       "      <th colspan=\"5\" halign=\"left\">AGG</th>\n",
       "      <th colspan=\"5\" halign=\"left\">SPY</th>\n",
       "    </tr>\n",
       "    <tr>\n",
       "      <th></th>\n",
       "      <th>open</th>\n",
       "      <th>high</th>\n",
       "      <th>low</th>\n",
       "      <th>close</th>\n",
       "      <th>volume</th>\n",
       "      <th>open</th>\n",
       "      <th>high</th>\n",
       "      <th>low</th>\n",
       "      <th>close</th>\n",
       "      <th>volume</th>\n",
       "    </tr>\n",
       "    <tr>\n",
       "      <th>time</th>\n",
       "      <th></th>\n",
       "      <th></th>\n",
       "      <th></th>\n",
       "      <th></th>\n",
       "      <th></th>\n",
       "      <th></th>\n",
       "      <th></th>\n",
       "      <th></th>\n",
       "      <th></th>\n",
       "      <th></th>\n",
       "    </tr>\n",
       "  </thead>\n",
       "  <tbody>\n",
       "    <tr>\n",
       "      <th>2021-02-16 00:00:00-05:00</th>\n",
       "      <td>116.22</td>\n",
       "      <td>116.2300</td>\n",
       "      <td>116.0200</td>\n",
       "      <td>116.030</td>\n",
       "      <td>5543350</td>\n",
       "      <td>393.96</td>\n",
       "      <td>394.17</td>\n",
       "      <td>391.53</td>\n",
       "      <td>392.34</td>\n",
       "      <td>43206214</td>\n",
       "    </tr>\n",
       "    <tr>\n",
       "      <th>2015-09-02 00:00:00-04:00</th>\n",
       "      <td>108.92</td>\n",
       "      <td>109.0500</td>\n",
       "      <td>108.8100</td>\n",
       "      <td>108.900</td>\n",
       "      <td>3273302</td>\n",
       "      <td>194.65</td>\n",
       "      <td>195.46</td>\n",
       "      <td>192.42</td>\n",
       "      <td>195.46</td>\n",
       "      <td>120044919</td>\n",
       "    </tr>\n",
       "    <tr>\n",
       "      <th>2019-10-16 00:00:00-04:00</th>\n",
       "      <td>112.68</td>\n",
       "      <td>112.7900</td>\n",
       "      <td>112.6200</td>\n",
       "      <td>112.720</td>\n",
       "      <td>2257665</td>\n",
       "      <td>298.37</td>\n",
       "      <td>299.16</td>\n",
       "      <td>297.92</td>\n",
       "      <td>298.41</td>\n",
       "      <td>40929771</td>\n",
       "    </tr>\n",
       "    <tr>\n",
       "      <th>2014-07-07 00:00:00-04:00</th>\n",
       "      <td>108.68</td>\n",
       "      <td>108.7480</td>\n",
       "      <td>108.6214</td>\n",
       "      <td>108.655</td>\n",
       "      <td>1097756</td>\n",
       "      <td>197.82</td>\n",
       "      <td>197.98</td>\n",
       "      <td>197.22</td>\n",
       "      <td>197.54</td>\n",
       "      <td>47451681</td>\n",
       "    </tr>\n",
       "    <tr>\n",
       "      <th>2018-11-06 00:00:00-05:00</th>\n",
       "      <td>104.09</td>\n",
       "      <td>104.1699</td>\n",
       "      <td>104.0635</td>\n",
       "      <td>104.100</td>\n",
       "      <td>2442244</td>\n",
       "      <td>273.32</td>\n",
       "      <td>275.30</td>\n",
       "      <td>273.25</td>\n",
       "      <td>275.12</td>\n",
       "      <td>49731823</td>\n",
       "    </tr>\n",
       "  </tbody>\n",
       "</table>\n",
       "</div>"
      ],
      "text/plain": [
       "                              AGG                                        \\\n",
       "                             open      high       low    close   volume   \n",
       "time                                                                      \n",
       "2021-02-16 00:00:00-05:00  116.22  116.2300  116.0200  116.030  5543350   \n",
       "2015-09-02 00:00:00-04:00  108.92  109.0500  108.8100  108.900  3273302   \n",
       "2019-10-16 00:00:00-04:00  112.68  112.7900  112.6200  112.720  2257665   \n",
       "2014-07-07 00:00:00-04:00  108.68  108.7480  108.6214  108.655  1097756   \n",
       "2018-11-06 00:00:00-05:00  104.09  104.1699  104.0635  104.100  2442244   \n",
       "\n",
       "                              SPY                                     \n",
       "                             open    high     low   close     volume  \n",
       "time                                                                  \n",
       "2021-02-16 00:00:00-05:00  393.96  394.17  391.53  392.34   43206214  \n",
       "2015-09-02 00:00:00-04:00  194.65  195.46  192.42  195.46  120044919  \n",
       "2019-10-16 00:00:00-04:00  298.37  299.16  297.92  298.41   40929771  \n",
       "2014-07-07 00:00:00-04:00  197.82  197.98  197.22  197.54   47451681  \n",
       "2018-11-06 00:00:00-05:00  273.32  275.30  273.25  275.12   49731823  "
      ]
     },
     "execution_count": 342,
     "metadata": {},
     "output_type": "execute_result"
    }
   ],
   "source": [
    "## AA DELETE ME\n",
    "#new_end_date = pd.DataFrame((investments_data.reset_index()).iloc[0])\n",
    "#new_end_date = new_end_date[0][\"time\"]\n",
    "#new_end_date\n",
    "\n",
    "# Set the date based on the earliest date returned less 1 day\n",
    "# Overwrite the date set at the start of the MC simulation section.\n",
    "end_date = pd.Timestamp('2017-06-21', tz=NYC).isoformat()\n",
    "\n",
    "# Get the Data for the 1000 days before the latest 1000\n",
    "df_stock_data_prev_1k = alpaca.get_barset(tickers, timeframe, end=end_date, limit=1000).df\n",
    "\n",
    "# Join the last 1000 days and most recent 1000 days\n",
    "df_stock_data = pd.concat([investments_data,df_stock_data_prev_1k], axis='rows', join='inner')\n",
    "\n",
    "# Sort the new dataframe, ascending\n",
    "df_stock_data.sort_index(inplace=True)\n",
    "\n",
    "# Display sample data\n",
    "df_stock_data.sample(5)"
   ]
  },
  {
   "cell_type": "code",
   "execution_count": 284,
   "metadata": {},
   "outputs": [],
   "source": [
    "# Set required sim constants\n",
    "num_sims = 500\n",
    "num_trdng_days = 252*30\n",
    "asset_weights = [.4,.6]\n",
    "\n",
    "# Configuring a Monte Carlo simulation to forecast 30 years cumulative returns\n",
    "MC_thirty_yrs = MCSimulation(\n",
    "    portfolio_data = df_stock_data,\n",
    "    weights = asset_weights,\n",
    "    num_simulation = num_sims,\n",
    "    num_trading_days = num_trdng_days\n",
    ")"
   ]
  },
  {
   "cell_type": "code",
   "execution_count": 285,
   "metadata": {},
   "outputs": [
    {
     "name": "stdout",
     "output_type": "stream",
     "text": [
      "\n",
      "Running a Monte Carlo Simulation of 500 run(s) over 30 year(s) given a 40/60 split of Bonds/Stocks respectively.\n",
      "\n"
     ]
    }
   ],
   "source": [
    "# Printing the simulation input data\n",
    "print(f\"\\nRunning a Monte Carlo Simulation of {num_sims} run(s) over {num_trdng_days/252:0.0f} year(s) given a 40/60 split of Bonds/Stocks respectively.\\n\")"
   ]
  },
  {
   "cell_type": "code",
   "execution_count": 286,
   "metadata": {},
   "outputs": [
    {
     "name": "stdout",
     "output_type": "stream",
     "text": [
      "Running Monte Carlo simulation number 0.\n",
      "Running Monte Carlo simulation number 10.\n",
      "Running Monte Carlo simulation number 20.\n",
      "Running Monte Carlo simulation number 30.\n",
      "Running Monte Carlo simulation number 40.\n",
      "Running Monte Carlo simulation number 50.\n",
      "Running Monte Carlo simulation number 60.\n",
      "Running Monte Carlo simulation number 70.\n",
      "Running Monte Carlo simulation number 80.\n",
      "Running Monte Carlo simulation number 90.\n",
      "Running Monte Carlo simulation number 100.\n",
      "Running Monte Carlo simulation number 110.\n",
      "Running Monte Carlo simulation number 120.\n",
      "Running Monte Carlo simulation number 130.\n",
      "Running Monte Carlo simulation number 140.\n",
      "Running Monte Carlo simulation number 150.\n",
      "Running Monte Carlo simulation number 160.\n",
      "Running Monte Carlo simulation number 170.\n",
      "Running Monte Carlo simulation number 180.\n",
      "Running Monte Carlo simulation number 190.\n",
      "Running Monte Carlo simulation number 200.\n",
      "Running Monte Carlo simulation number 210.\n",
      "Running Monte Carlo simulation number 220.\n",
      "Running Monte Carlo simulation number 230.\n",
      "Running Monte Carlo simulation number 240.\n",
      "Running Monte Carlo simulation number 250.\n",
      "Running Monte Carlo simulation number 260.\n",
      "Running Monte Carlo simulation number 270.\n",
      "Running Monte Carlo simulation number 280.\n",
      "Running Monte Carlo simulation number 290.\n",
      "Running Monte Carlo simulation number 300.\n",
      "Running Monte Carlo simulation number 310.\n",
      "Running Monte Carlo simulation number 320.\n",
      "Running Monte Carlo simulation number 330.\n",
      "Running Monte Carlo simulation number 340.\n",
      "Running Monte Carlo simulation number 350.\n",
      "Running Monte Carlo simulation number 360.\n",
      "Running Monte Carlo simulation number 370.\n",
      "Running Monte Carlo simulation number 380.\n",
      "Running Monte Carlo simulation number 390.\n",
      "Running Monte Carlo simulation number 400.\n",
      "Running Monte Carlo simulation number 410.\n",
      "Running Monte Carlo simulation number 420.\n",
      "Running Monte Carlo simulation number 430.\n",
      "Running Monte Carlo simulation number 440.\n",
      "Running Monte Carlo simulation number 450.\n",
      "Running Monte Carlo simulation number 460.\n",
      "Running Monte Carlo simulation number 470.\n",
      "Running Monte Carlo simulation number 480.\n",
      "Running Monte Carlo simulation number 490.\n"
     ]
    },
    {
     "data": {
      "text/html": [
       "<div>\n",
       "<style scoped>\n",
       "    .dataframe tbody tr th:only-of-type {\n",
       "        vertical-align: middle;\n",
       "    }\n",
       "\n",
       "    .dataframe tbody tr th {\n",
       "        vertical-align: top;\n",
       "    }\n",
       "\n",
       "    .dataframe thead th {\n",
       "        text-align: right;\n",
       "    }\n",
       "</style>\n",
       "<table border=\"1\" class=\"dataframe\">\n",
       "  <thead>\n",
       "    <tr style=\"text-align: right;\">\n",
       "      <th></th>\n",
       "      <th>0</th>\n",
       "      <th>1</th>\n",
       "      <th>2</th>\n",
       "      <th>3</th>\n",
       "      <th>4</th>\n",
       "      <th>5</th>\n",
       "      <th>6</th>\n",
       "      <th>7</th>\n",
       "      <th>8</th>\n",
       "      <th>9</th>\n",
       "      <th>...</th>\n",
       "      <th>490</th>\n",
       "      <th>491</th>\n",
       "      <th>492</th>\n",
       "      <th>493</th>\n",
       "      <th>494</th>\n",
       "      <th>495</th>\n",
       "      <th>496</th>\n",
       "      <th>497</th>\n",
       "      <th>498</th>\n",
       "      <th>499</th>\n",
       "    </tr>\n",
       "  </thead>\n",
       "  <tbody>\n",
       "    <tr>\n",
       "      <th>0</th>\n",
       "      <td>1.000000</td>\n",
       "      <td>1.000000</td>\n",
       "      <td>1.000000</td>\n",
       "      <td>1.000000</td>\n",
       "      <td>1.000000</td>\n",
       "      <td>1.000000</td>\n",
       "      <td>1.000000</td>\n",
       "      <td>1.000000</td>\n",
       "      <td>1.000000</td>\n",
       "      <td>1.000000</td>\n",
       "      <td>...</td>\n",
       "      <td>1.000000</td>\n",
       "      <td>1.000000</td>\n",
       "      <td>1.000000</td>\n",
       "      <td>1.000000</td>\n",
       "      <td>1.000000</td>\n",
       "      <td>1.000000</td>\n",
       "      <td>1.000000</td>\n",
       "      <td>1.000000</td>\n",
       "      <td>1.000000</td>\n",
       "      <td>1.000000</td>\n",
       "    </tr>\n",
       "    <tr>\n",
       "      <th>1</th>\n",
       "      <td>0.996631</td>\n",
       "      <td>0.997305</td>\n",
       "      <td>0.997874</td>\n",
       "      <td>0.999384</td>\n",
       "      <td>0.992776</td>\n",
       "      <td>1.000192</td>\n",
       "      <td>1.008084</td>\n",
       "      <td>0.996073</td>\n",
       "      <td>1.005648</td>\n",
       "      <td>1.001471</td>\n",
       "      <td>...</td>\n",
       "      <td>0.997324</td>\n",
       "      <td>1.002945</td>\n",
       "      <td>1.002950</td>\n",
       "      <td>0.992231</td>\n",
       "      <td>0.991502</td>\n",
       "      <td>1.004087</td>\n",
       "      <td>1.000794</td>\n",
       "      <td>0.988633</td>\n",
       "      <td>1.002956</td>\n",
       "      <td>1.003604</td>\n",
       "    </tr>\n",
       "    <tr>\n",
       "      <th>2</th>\n",
       "      <td>0.986671</td>\n",
       "      <td>0.994770</td>\n",
       "      <td>0.990105</td>\n",
       "      <td>1.000661</td>\n",
       "      <td>0.991297</td>\n",
       "      <td>1.006513</td>\n",
       "      <td>1.010190</td>\n",
       "      <td>0.989735</td>\n",
       "      <td>0.988757</td>\n",
       "      <td>1.004533</td>\n",
       "      <td>...</td>\n",
       "      <td>0.997858</td>\n",
       "      <td>1.011427</td>\n",
       "      <td>1.009762</td>\n",
       "      <td>0.991550</td>\n",
       "      <td>0.998823</td>\n",
       "      <td>1.013348</td>\n",
       "      <td>0.994101</td>\n",
       "      <td>0.991197</td>\n",
       "      <td>0.994601</td>\n",
       "      <td>1.016355</td>\n",
       "    </tr>\n",
       "    <tr>\n",
       "      <th>3</th>\n",
       "      <td>0.990684</td>\n",
       "      <td>0.995173</td>\n",
       "      <td>0.991537</td>\n",
       "      <td>1.004603</td>\n",
       "      <td>0.996443</td>\n",
       "      <td>0.990740</td>\n",
       "      <td>1.019997</td>\n",
       "      <td>0.985606</td>\n",
       "      <td>0.983656</td>\n",
       "      <td>0.992505</td>\n",
       "      <td>...</td>\n",
       "      <td>0.996697</td>\n",
       "      <td>1.011759</td>\n",
       "      <td>1.006638</td>\n",
       "      <td>0.995833</td>\n",
       "      <td>0.999916</td>\n",
       "      <td>1.016918</td>\n",
       "      <td>0.993540</td>\n",
       "      <td>1.002149</td>\n",
       "      <td>0.998308</td>\n",
       "      <td>1.008759</td>\n",
       "    </tr>\n",
       "    <tr>\n",
       "      <th>4</th>\n",
       "      <td>0.994850</td>\n",
       "      <td>0.986469</td>\n",
       "      <td>0.990746</td>\n",
       "      <td>1.003445</td>\n",
       "      <td>1.001473</td>\n",
       "      <td>0.989097</td>\n",
       "      <td>1.011923</td>\n",
       "      <td>0.989511</td>\n",
       "      <td>0.994116</td>\n",
       "      <td>0.995502</td>\n",
       "      <td>...</td>\n",
       "      <td>0.995826</td>\n",
       "      <td>1.001953</td>\n",
       "      <td>1.006645</td>\n",
       "      <td>0.991729</td>\n",
       "      <td>0.990601</td>\n",
       "      <td>1.016922</td>\n",
       "      <td>0.982845</td>\n",
       "      <td>0.995499</td>\n",
       "      <td>0.994784</td>\n",
       "      <td>1.018226</td>\n",
       "    </tr>\n",
       "    <tr>\n",
       "      <th>...</th>\n",
       "      <td>...</td>\n",
       "      <td>...</td>\n",
       "      <td>...</td>\n",
       "      <td>...</td>\n",
       "      <td>...</td>\n",
       "      <td>...</td>\n",
       "      <td>...</td>\n",
       "      <td>...</td>\n",
       "      <td>...</td>\n",
       "      <td>...</td>\n",
       "      <td>...</td>\n",
       "      <td>...</td>\n",
       "      <td>...</td>\n",
       "      <td>...</td>\n",
       "      <td>...</td>\n",
       "      <td>...</td>\n",
       "      <td>...</td>\n",
       "      <td>...</td>\n",
       "      <td>...</td>\n",
       "      <td>...</td>\n",
       "      <td>...</td>\n",
       "    </tr>\n",
       "    <tr>\n",
       "      <th>7556</th>\n",
       "      <td>16.571363</td>\n",
       "      <td>8.123978</td>\n",
       "      <td>15.797514</td>\n",
       "      <td>16.609934</td>\n",
       "      <td>7.247071</td>\n",
       "      <td>2.564210</td>\n",
       "      <td>2.588596</td>\n",
       "      <td>9.849589</td>\n",
       "      <td>7.975488</td>\n",
       "      <td>13.118686</td>\n",
       "      <td>...</td>\n",
       "      <td>9.312332</td>\n",
       "      <td>7.420045</td>\n",
       "      <td>17.265780</td>\n",
       "      <td>8.378096</td>\n",
       "      <td>3.713019</td>\n",
       "      <td>7.330547</td>\n",
       "      <td>5.485236</td>\n",
       "      <td>18.250897</td>\n",
       "      <td>10.172788</td>\n",
       "      <td>21.425871</td>\n",
       "    </tr>\n",
       "    <tr>\n",
       "      <th>7557</th>\n",
       "      <td>16.617475</td>\n",
       "      <td>8.125859</td>\n",
       "      <td>15.769453</td>\n",
       "      <td>16.660998</td>\n",
       "      <td>7.236557</td>\n",
       "      <td>2.586684</td>\n",
       "      <td>2.600569</td>\n",
       "      <td>9.882495</td>\n",
       "      <td>7.965361</td>\n",
       "      <td>13.145917</td>\n",
       "      <td>...</td>\n",
       "      <td>9.380762</td>\n",
       "      <td>7.426461</td>\n",
       "      <td>17.272333</td>\n",
       "      <td>8.307737</td>\n",
       "      <td>3.701134</td>\n",
       "      <td>7.346723</td>\n",
       "      <td>5.505019</td>\n",
       "      <td>18.079651</td>\n",
       "      <td>10.160968</td>\n",
       "      <td>21.418188</td>\n",
       "    </tr>\n",
       "    <tr>\n",
       "      <th>7558</th>\n",
       "      <td>16.485594</td>\n",
       "      <td>8.082896</td>\n",
       "      <td>15.602811</td>\n",
       "      <td>16.920037</td>\n",
       "      <td>7.190170</td>\n",
       "      <td>2.591283</td>\n",
       "      <td>2.608249</td>\n",
       "      <td>9.851033</td>\n",
       "      <td>7.948426</td>\n",
       "      <td>13.331321</td>\n",
       "      <td>...</td>\n",
       "      <td>9.246003</td>\n",
       "      <td>7.354134</td>\n",
       "      <td>17.347512</td>\n",
       "      <td>8.321676</td>\n",
       "      <td>3.729944</td>\n",
       "      <td>7.369338</td>\n",
       "      <td>5.493555</td>\n",
       "      <td>18.038332</td>\n",
       "      <td>10.134916</td>\n",
       "      <td>21.516172</td>\n",
       "    </tr>\n",
       "    <tr>\n",
       "      <th>7559</th>\n",
       "      <td>16.275157</td>\n",
       "      <td>8.118957</td>\n",
       "      <td>15.443633</td>\n",
       "      <td>16.974384</td>\n",
       "      <td>7.175412</td>\n",
       "      <td>2.604567</td>\n",
       "      <td>2.587021</td>\n",
       "      <td>9.923077</td>\n",
       "      <td>7.932685</td>\n",
       "      <td>13.452692</td>\n",
       "      <td>...</td>\n",
       "      <td>9.298873</td>\n",
       "      <td>7.308650</td>\n",
       "      <td>17.610353</td>\n",
       "      <td>8.317644</td>\n",
       "      <td>3.737839</td>\n",
       "      <td>7.318316</td>\n",
       "      <td>5.549729</td>\n",
       "      <td>17.976755</td>\n",
       "      <td>10.174632</td>\n",
       "      <td>21.700676</td>\n",
       "    </tr>\n",
       "    <tr>\n",
       "      <th>7560</th>\n",
       "      <td>16.176526</td>\n",
       "      <td>8.074264</td>\n",
       "      <td>15.585013</td>\n",
       "      <td>16.993190</td>\n",
       "      <td>7.185340</td>\n",
       "      <td>2.584000</td>\n",
       "      <td>2.599391</td>\n",
       "      <td>9.930170</td>\n",
       "      <td>7.849172</td>\n",
       "      <td>13.558700</td>\n",
       "      <td>...</td>\n",
       "      <td>9.357218</td>\n",
       "      <td>7.409232</td>\n",
       "      <td>17.395357</td>\n",
       "      <td>8.322665</td>\n",
       "      <td>3.752038</td>\n",
       "      <td>7.308397</td>\n",
       "      <td>5.565735</td>\n",
       "      <td>17.923036</td>\n",
       "      <td>10.315415</td>\n",
       "      <td>22.004766</td>\n",
       "    </tr>\n",
       "  </tbody>\n",
       "</table>\n",
       "<p>7561 rows × 500 columns</p>\n",
       "</div>"
      ],
      "text/plain": [
       "            0         1          2          3         4         5         6    \\\n",
       "0      1.000000  1.000000   1.000000   1.000000  1.000000  1.000000  1.000000   \n",
       "1      0.996631  0.997305   0.997874   0.999384  0.992776  1.000192  1.008084   \n",
       "2      0.986671  0.994770   0.990105   1.000661  0.991297  1.006513  1.010190   \n",
       "3      0.990684  0.995173   0.991537   1.004603  0.996443  0.990740  1.019997   \n",
       "4      0.994850  0.986469   0.990746   1.003445  1.001473  0.989097  1.011923   \n",
       "...         ...       ...        ...        ...       ...       ...       ...   \n",
       "7556  16.571363  8.123978  15.797514  16.609934  7.247071  2.564210  2.588596   \n",
       "7557  16.617475  8.125859  15.769453  16.660998  7.236557  2.586684  2.600569   \n",
       "7558  16.485594  8.082896  15.602811  16.920037  7.190170  2.591283  2.608249   \n",
       "7559  16.275157  8.118957  15.443633  16.974384  7.175412  2.604567  2.587021   \n",
       "7560  16.176526  8.074264  15.585013  16.993190  7.185340  2.584000  2.599391   \n",
       "\n",
       "           7         8          9    ...       490       491        492  \\\n",
       "0     1.000000  1.000000   1.000000  ...  1.000000  1.000000   1.000000   \n",
       "1     0.996073  1.005648   1.001471  ...  0.997324  1.002945   1.002950   \n",
       "2     0.989735  0.988757   1.004533  ...  0.997858  1.011427   1.009762   \n",
       "3     0.985606  0.983656   0.992505  ...  0.996697  1.011759   1.006638   \n",
       "4     0.989511  0.994116   0.995502  ...  0.995826  1.001953   1.006645   \n",
       "...        ...       ...        ...  ...       ...       ...        ...   \n",
       "7556  9.849589  7.975488  13.118686  ...  9.312332  7.420045  17.265780   \n",
       "7557  9.882495  7.965361  13.145917  ...  9.380762  7.426461  17.272333   \n",
       "7558  9.851033  7.948426  13.331321  ...  9.246003  7.354134  17.347512   \n",
       "7559  9.923077  7.932685  13.452692  ...  9.298873  7.308650  17.610353   \n",
       "7560  9.930170  7.849172  13.558700  ...  9.357218  7.409232  17.395357   \n",
       "\n",
       "           493       494       495       496        497        498        499  \n",
       "0     1.000000  1.000000  1.000000  1.000000   1.000000   1.000000   1.000000  \n",
       "1     0.992231  0.991502  1.004087  1.000794   0.988633   1.002956   1.003604  \n",
       "2     0.991550  0.998823  1.013348  0.994101   0.991197   0.994601   1.016355  \n",
       "3     0.995833  0.999916  1.016918  0.993540   1.002149   0.998308   1.008759  \n",
       "4     0.991729  0.990601  1.016922  0.982845   0.995499   0.994784   1.018226  \n",
       "...        ...       ...       ...       ...        ...        ...        ...  \n",
       "7556  8.378096  3.713019  7.330547  5.485236  18.250897  10.172788  21.425871  \n",
       "7557  8.307737  3.701134  7.346723  5.505019  18.079651  10.160968  21.418188  \n",
       "7558  8.321676  3.729944  7.369338  5.493555  18.038332  10.134916  21.516172  \n",
       "7559  8.317644  3.737839  7.318316  5.549729  17.976755  10.174632  21.700676  \n",
       "7560  8.322665  3.752038  7.308397  5.565735  17.923036  10.315415  22.004766  \n",
       "\n",
       "[7561 rows x 500 columns]"
      ]
     },
     "execution_count": 286,
     "metadata": {},
     "output_type": "execute_result"
    }
   ],
   "source": [
    "# Running a Monte Carlo simulation to forecast 30 years cumulative returns\n",
    "MC_thirty_yrs.calc_cumulative_return()"
   ]
  },
  {
   "cell_type": "code",
   "execution_count": 315,
   "metadata": {},
   "outputs": [
    {
     "data": {
      "text/plain": [
       "<AxesSubplot:title={'center':'500 Simulations of Cumulative Portfolio Return Trajectories Over the Next 7560 Trading Days.'}>"
      ]
     },
     "execution_count": 315,
     "metadata": {},
     "output_type": "execute_result"
    },
    {
     "data": {
      "image/png": "[encoded data removed]",
      "text/plain": [
       "<Figure size 1008x648 with 1 Axes>"
      ]
     },
     "metadata": {
      "needs_background": "light"
     },
     "output_type": "display_data"
    }
   ],
   "source": [
    "# Plot simulation outcomes\n",
    "MC_thirty_yrs.plot_simulation()"
   ]
  },
  {
   "cell_type": "code",
   "execution_count": 316,
   "metadata": {},
   "outputs": [
    {
     "data": {
      "text/plain": [
       "<AxesSubplot:title={'center':'Distribution of Final Cumuluative Returns Across All 500 Simulations'}, ylabel='Frequency'>"
      ]
     },
     "execution_count": 316,
     "metadata": {},
     "output_type": "execute_result"
    },
    {
     "data": {
      "image/png": "[encoded data removed]",
      "text/plain": [
       "<Figure size 864x504 with 1 Axes>"
      ]
     },
     "metadata": {
      "needs_background": "light"
     },
     "output_type": "display_data"
    }
   ],
   "source": [
    "# Plot probability distribution and confidence intervals\n",
    "MC_thirty_yrs.plot_distribution()"
   ]
  },
  {
   "cell_type": "markdown",
   "metadata": {},
   "source": [
    "### Retirement Analysis"
   ]
  },
  {
   "cell_type": "code",
   "execution_count": 330,
   "metadata": {},
   "outputs": [
    {
     "name": "stdout",
     "output_type": "stream",
     "text": [
      "\n",
      "Summarised simulation results:\n",
      "------------------------------\n",
      "count           500.000000\n",
      "mean             12.754978\n",
      "std               7.704697\n",
      "min               2.208234\n",
      "25%               7.544844\n",
      "50%              10.693411\n",
      "75%              16.239292\n",
      "max              54.621019\n",
      "95% CI Lower      3.318065\n",
      "95% CI Upper     30.792063\n",
      "Name: 7560, dtype: float64\n"
     ]
    }
   ],
   "source": [
    "# Fetch summary statistics from the Monte Carlo simulation results\n",
    "thirty_yr_stats = MC_thirty_yrs.summarize_cumulative_return()\n",
    "\n",
    "# Print summary statistics\n",
    "print(\"\\nSummarised simulation results:\")\n",
    "print(\"------------------------------\")\n",
    "print(thirty_yr_stats)"
   ]
  },
  {
   "cell_type": "markdown",
   "metadata": {},
   "source": [
    "### Calculate the expected portfolio return at the `95%` lower and upper confidence intervals based on a `$20,000` initial investment."
   ]
  },
  {
   "cell_type": "code",
   "execution_count": 312,
   "metadata": {},
   "outputs": [
    {
     "name": "stdout",
     "output_type": "stream",
     "text": [
      "\n",
      "There is a 95% chance that an initial investment of $20000 in the portfolio \n",
      "over the next 30 years, will end within the range of $66361 and $615841\n"
     ]
    }
   ],
   "source": [
    "# Set initial investment\n",
    "initial_investment = 20000\n",
    "\n",
    "# Use the lower and upper `95%` confidence intervals to calculate the range of the possible outcomes of our $20,000\n",
    "ci_lower = round(thirty_yr_stats[8]*initial_investment)\n",
    "ci_upper = round(thirty_yr_stats[9]*initial_investment)\n",
    "\n",
    "# Print results\n",
    "# Rounded up earlier ... makes for an easier reading experience\n",
    "# corrected grammar ... from 'within in' to 'within'\n",
    "print(f\"\\nThere is a 95% chance that an initial investment of ${initial_investment} in the portfolio\"\n",
    "      f\" \\nover the next 30 years, will end within the range of\"\n",
    "      f\" ${ci_lower} and ${ci_upper}\")"
   ]
  },
  {
   "cell_type": "markdown",
   "metadata": {},
   "source": [
    "### Calculate the expected portfolio return at the `95%` lower and upper confidence intervals based on a `50%` increase in the initial investment."
   ]
  },
  {
   "cell_type": "code",
   "execution_count": 313,
   "metadata": {},
   "outputs": [
    {
     "name": "stdout",
     "output_type": "stream",
     "text": [
      "\n",
      "There is a 95% chance that an initial investment of $30000.0 in the portfolio \n",
      "over the next 30 years will, end within the range of $99542 and $923762\n"
     ]
    }
   ],
   "source": [
    "# Set initial investment\n",
    "initial_investment = 20000 * 1.5\n",
    "\n",
    "# Use the lower and upper `95%` confidence intervals to calculate the range of the possible outcomes of our $30,000\n",
    "# No change ... code is identical\n",
    "ci_lower = round(thirty_yr_stats[8]*initial_investment)\n",
    "ci_upper = round(thirty_yr_stats[9]*initial_investment)\n",
    "\n",
    "# Print results\n",
    "# As above ... made the same changes.\n",
    "print(f\"\\nThere is a 95% chance that an initial investment of ${initial_investment} in the portfolio\"\n",
    "      f\" \\nover the next 30 years will, end within the range of\"\n",
    "      f\" ${ci_lower} and ${ci_upper}\")"
   ]
  },
  {
   "cell_type": "markdown",
   "metadata": {},
   "source": [
    "## Optional Challenge - Early Retirement\n",
    "\n",
    "\n",
    "### Five Years Retirement Option"
   ]
  },
  {
   "cell_type": "code",
   "execution_count": null,
   "metadata": {},
   "outputs": [],
   "source": [
    "# Configuring a Monte Carlo simulation to forecast 5 years cumulative returns\n",
    "# YOUR CODE HERE!"
   ]
  },
  {
   "cell_type": "code",
   "execution_count": null,
   "metadata": {},
   "outputs": [],
   "source": [
    "# Running a Monte Carlo simulation to forecast 5 years cumulative returns\n",
    "# YOUR CODE HERE!"
   ]
  },
  {
   "cell_type": "code",
   "execution_count": null,
   "metadata": {},
   "outputs": [],
   "source": [
    "# Plot simulation outcomes\n",
    "# YOUR CODE HERE!"
   ]
  },
  {
   "cell_type": "code",
   "execution_count": null,
   "metadata": {},
   "outputs": [],
   "source": [
    "# Plot probability distribution and confidence intervals\n",
    "# YOUR CODE HERE!"
   ]
  },
  {
   "cell_type": "code",
   "execution_count": null,
   "metadata": {},
   "outputs": [],
   "source": [
    "# Fetch summary statistics from the Monte Carlo simulation results\n",
    "# YOUR CODE HERE!\n",
    "\n",
    "# Print summary statistics\n",
    "# YOUR CODE HERE!"
   ]
  },
  {
   "cell_type": "code",
   "execution_count": null,
   "metadata": {},
   "outputs": [],
   "source": [
    "# Set initial investment\n",
    "# YOUR CODE HERE!\n",
    "\n",
    "# Use the lower and upper `95%` confidence intervals to calculate the range of the possible outcomes of our $60,000\n",
    "# YOUR CODE HERE!\n",
    "\n",
    "# Print results\n",
    "print(f\"There is a 95% chance that an initial investment of ${initial_investment} in the portfolio\"\n",
    "      f\" over the next 5 years will end within in the range of\"\n",
    "      f\" ${ci_lower_five} and ${ci_upper_five}\")"
   ]
  },
  {
   "cell_type": "markdown",
   "metadata": {},
   "source": [
    "### Ten Years Retirement Option"
   ]
  },
  {
   "cell_type": "code",
   "execution_count": null,
   "metadata": {},
   "outputs": [],
   "source": [
    "# Configuring a Monte Carlo simulation to forecast 10 years cumulative returns\n",
    "# YOUR CODE HERE!"
   ]
  },
  {
   "cell_type": "code",
   "execution_count": null,
   "metadata": {},
   "outputs": [],
   "source": [
    "# Running a Monte Carlo simulation to forecast 10 years cumulative returns\n",
    "# YOUR CODE HERE!"
   ]
  },
  {
   "cell_type": "code",
   "execution_count": null,
   "metadata": {},
   "outputs": [],
   "source": [
    "# Plot simulation outcomes\n",
    "# YOUR CODE HERE!"
   ]
  },
  {
   "cell_type": "code",
   "execution_count": null,
   "metadata": {},
   "outputs": [],
   "source": [
    "# Plot probability distribution and confidence intervals\n",
    "# YOUR CODE HERE!"
   ]
  },
  {
   "cell_type": "code",
   "execution_count": null,
   "metadata": {},
   "outputs": [],
   "source": [
    "# Fetch summary statistics from the Monte Carlo simulation results\n",
    "# YOUR CODE HERE!\n",
    "\n",
    "# Print summary statistics\n",
    "# YOUR CODE HERE!"
   ]
  },
  {
   "cell_type": "code",
   "execution_count": null,
   "metadata": {},
   "outputs": [],
   "source": [
    "# Set initial investment\n",
    "# YOUR CODE HERE!\n",
    "\n",
    "# Use the lower and upper `95%` confidence intervals to calculate the range of the possible outcomes of our $60,000\n",
    "# YOUR CODE HERE!\n",
    "\n",
    "# Print results\n",
    "print(f\"There is a 95% chance that an initial investment of ${initial_investment} in the portfolio\"\n",
    "      f\" over the next 10 years will end within in the range of\"\n",
    "      f\" ${ci_lower_ten} and ${ci_upper_ten}\")"
   ]
  },
  {
   "cell_type": "code",
   "execution_count": null,
   "metadata": {},
   "outputs": [],
   "source": []
  }
 ],
 "metadata": {
  "kernelspec": {
   "display_name": "Python 3",
   "language": "python",
   "name": "python3"
  },
  "language_info": {
   "codemirror_mode": {
    "name": "ipython",
    "version": 3
   },
   "file_extension": ".py",
   "mimetype": "text/x-python",
   "name": "python",
   "nbconvert_exporter": "python",
   "pygments_lexer": "ipython3",
   "version": "3.7.10"
  },
  "nteract": {
   "version": "0.28.0"
  }
 },
 "nbformat": 4,
 "nbformat_minor": 4
}
